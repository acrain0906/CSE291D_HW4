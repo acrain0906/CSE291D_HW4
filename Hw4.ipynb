{
 "cells": [
  {
   "cell_type": "markdown",
   "metadata": {},
   "source": [
    "## Imports"
   ]
  },
  {
   "cell_type": "code",
   "execution_count": null,
   "metadata": {
    "collapsed": false
   },
   "outputs": [],
   "source": [
    "import matplotlib.pyplot as plt\n",
    "import numpy as np\n",
    "import pandas as pd\n",
    "from scipy import stats\n",
    "import random\n",
    "\n",
    "from sklearn.neighbors import KNeighborsClassifier, DistanceMetric\n",
    "from sklearn.metrics import confusion_matrix, accuracy_score\n",
    "from sklearn.preprocessing import normalize\n",
    "from sklearn.decomposition import PCA\n",
    "\n",
    "import sys\n",
    "import time\n",
    "import math\n",
    "\n",
    "%config InlineBackend.figure_format='svg'\n",
    "%matplotlib inline"
   ]
  },
  {
   "cell_type": "code",
   "execution_count": null,
   "metadata": {
    "collapsed": true
   },
   "outputs": [],
   "source": [
    "# Extra\n",
    "import scipy.sparse"
   ]
  },
  {
   "cell_type": "markdown",
   "metadata": {},
   "source": [
    "## Import Data"
   ]
  },
  {
   "cell_type": "code",
   "execution_count": null,
   "metadata": {
    "collapsed": true
   },
   "outputs": [],
   "source": [
    "def readMNIST (filename):\n",
    "    data = np.genfromtxt(filename, delimiter = \",\")\n",
    "    data = data.transpose()\n",
    "    \n",
    "    label = np.array(data[:, -1])\n",
    "    feature = np.array(data[:,:-1])\n",
    "    \n",
    "    return feature, label"
   ]
  },
  {
   "cell_type": "code",
   "execution_count": null,
   "metadata": {
    "collapsed": false
   },
   "outputs": [],
   "source": [
    "sys.stdout.write('Loading MNIST data... ')\n",
    "MNIST_train_feature, MNIST_train_label = readMNIST('./MNIST/train.csv')\n",
    "MNIST_test_feature, MNIST_test_label = readMNIST('./MNIST/test.csv')\n",
    "print ('done.')"
   ]
  },
  {
   "cell_type": "code",
   "execution_count": null,
   "metadata": {
    "collapsed": false
   },
   "outputs": [],
   "source": [
    "sys.stdout.write('Split MNIST into specific outputs... ')\n",
    "# split into 0, 1, 3, 5\n",
    "#   1) zip labels and features together\n",
    "MNIST_train_list = list(zip(MNIST_train_feature, MNIST_train_label))\n",
    "MNIST_test_list = list(zip(MNIST_test_feature, MNIST_test_label))\n",
    "print ('done.')"
   ]
  },
  {
   "cell_type": "code",
   "execution_count": null,
   "metadata": {
    "collapsed": true
   },
   "outputs": [],
   "source": [
    "def shuffle (featurelist, labellist):\n",
    "    merged = list(zip(featurelist, labellist))\n",
    "    random.shuffle(merged)\n",
    "    featurelist, labellist = zip(*merged)\n",
    "    return np.array(featurelist), np.array(labellist)\n",
    "\n",
    "def mergeAndShuffle(list1, list2):\n",
    "    featurelist = []\n",
    "    labellist = []\n",
    "    for (feature, label) in list1:\n",
    "        featurelist.append(feature)\n",
    "        labellist.append(label)\n",
    "    for (feature, label) in list2:\n",
    "        featurelist.append(feature)\n",
    "        labellist.append(label)\n",
    "    return shuffle (featurelist, labellist)"
   ]
  },
  {
   "cell_type": "markdown",
   "metadata": {
    "collapsed": true
   },
   "source": [
    "# Ising Model De-noise"
   ]
  },
  {
   "cell_type": "markdown",
   "metadata": {},
   "source": [
    "## Choose Dataset"
   ]
  },
  {
   "cell_type": "code",
   "execution_count": null,
   "metadata": {
    "collapsed": false
   },
   "outputs": [],
   "source": [
    "feature, label = mergeAndShuffle(MNIST_test_list, MNIST_train_list)"
   ]
  },
  {
   "cell_type": "code",
   "execution_count": null,
   "metadata": {
    "collapsed": true
   },
   "outputs": [],
   "source": [
    "BATCH_SIZE = 10\n",
    "feature = feature[:BATCH_SIZE]\n",
    "label = label[:BATCH_SIZE]"
   ]
  },
  {
   "cell_type": "markdown",
   "metadata": {},
   "source": [
    "### Convert to binary matrix"
   ]
  },
  {
   "cell_type": "code",
   "execution_count": null,
   "metadata": {
    "collapsed": false
   },
   "outputs": [],
   "source": [
    "feature = feature > feature.mean()"
   ]
  },
  {
   "cell_type": "code",
   "execution_count": null,
   "metadata": {
    "collapsed": false
   },
   "outputs": [],
   "source": [
    "def plotGrayScale(im):\n",
    "    fig = plt.figure()\n",
    "    ax = fig.add_subplot(111)\n",
    "    ax.imshow(im.reshape(28, 28), aspect='auto', cmap=plt.cm.gray, interpolation='nearest')"
   ]
  },
  {
   "cell_type": "code",
   "execution_count": null,
   "metadata": {
    "collapsed": false
   },
   "outputs": [],
   "source": [
    "#plotGrayScale(feature[105])"
   ]
  },
  {
   "cell_type": "markdown",
   "metadata": {},
   "source": [
    "### Add Noise"
   ]
  },
  {
   "cell_type": "code",
   "execution_count": null,
   "metadata": {
    "collapsed": true
   },
   "outputs": [],
   "source": [
    "flip = np.random.random(feature.shape) > .9"
   ]
  },
  {
   "cell_type": "code",
   "execution_count": null,
   "metadata": {
    "collapsed": false
   },
   "outputs": [],
   "source": [
    "feature_noise = np.logical_or(np.logical_and(flip, np.logical_not(feature)), np.logical_and(feature, np.logical_not(flip)))"
   ]
  },
  {
   "cell_type": "code",
   "execution_count": null,
   "metadata": {
    "collapsed": false
   },
   "outputs": [],
   "source": [
    "#plotGrayScale(feature[16])"
   ]
  },
  {
   "cell_type": "markdown",
   "metadata": {},
   "source": [
    "## Gibbs Sampler"
   ]
  },
  {
   "cell_type": "markdown",
   "metadata": {},
   "source": [
    "### Initialize Variables"
   ]
  },
  {
   "cell_type": "code",
   "execution_count": null,
   "metadata": {
    "collapsed": true
   },
   "outputs": [],
   "source": [
    "def addr(r, c, dim):\n",
    "    return r * dim[1] + c\n",
    "\n",
    "def Graph(dim):\n",
    "    row = dim[0]\n",
    "    col = dim[1]\n",
    "    length = row * col\n",
    "    W = np.zeros((length, length))\n",
    "    for i in range(length):\n",
    "        r = i % row\n",
    "        c = i % col \n",
    "        if r + 1 < row:\n",
    "            W[i, addr (r + 1, c, dim)] = 1\n",
    "        if r - 1 > 0:\n",
    "            W[i, addr (r - 1, c, dim)] = 1\n",
    "        if c + 1 < col:\n",
    "            W[i, addr (r, c + 1, dim)] = 1\n",
    "        if c - 1 > 0:\n",
    "            W[i, addr (r, c - 1, dim)] = 1\n",
    "    return W.astype(int)\n",
    "\n",
    "def B (X, c):\n",
    "    return (2 * X - np.ones(x.shape)) * c"
   ]
  },
  {
   "cell_type": "code",
   "execution_count": null,
   "metadata": {
    "collapsed": false
   },
   "outputs": [],
   "source": [
    "W = Graph((28, 28))\n",
    "b = 5 \n",
    "iterations = 200"
   ]
  },
  {
   "cell_type": "markdown",
   "metadata": {
    "collapsed": true
   },
   "source": [
    "### Update Equations"
   ]
  },
  {
   "cell_type": "code",
   "execution_count": null,
   "metadata": {
    "collapsed": true
   },
   "outputs": [],
   "source": [
    "def np_sigmoid(x):\n",
    "    return 1/(1 + np.exp(-x))\n",
    "\n",
    "def updateX(X, W, b):\n",
    "    H = np.array([computeH(X, i, W, b) for i in range(X.shape[0])])\n",
    "    p = np_sigmoid(2 * H)\n",
    "    rand = np.random.random(X.shape)\n",
    "    X_new = rand <= p\n",
    "    return 2 * X_new - 1\n",
    "\n",
    "def computeH(X, i, W, b):\n",
    "    xi = X[i]\n",
    "    return 0.5 * sum([xi * X[j] for j in W[i,:]]) + b * xi"
   ]
  },
  {
   "cell_type": "markdown",
   "metadata": {},
   "source": [
    "### Run Gibbs Sampling"
   ]
  },
  {
   "cell_type": "code",
   "execution_count": null,
   "metadata": {
    "collapsed": false
   },
   "outputs": [],
   "source": [
    "feature_cleaned = feature_noise.copy()\n",
    "for i in range(feature_cleaned.shape[0]):\n",
    "    for j in range(iterations):\n",
    "        feature_cleaned[i,:] = updateX(feature_cleaned[i,:], W, b)"
   ]
  },
  {
   "cell_type": "markdown",
   "metadata": {},
   "source": [
    "### Analysis"
   ]
  },
  {
   "cell_type": "code",
   "execution_count": null,
   "metadata": {
    "collapsed": true
   },
   "outputs": [],
   "source": [
    "def accuracy(X, X_n, X_c):\n",
    "    N = X.shape[0]\n",
    "    total = np.array([imageMatch(X[i,:,:],X_n[i,:,:],X_c[i,:,:]) for i in range (N)])\n",
    "    sums = np.sum(total, asix = 1) / N\n",
    "    return sums[0], sums[1], sums[2]\n",
    "\n",
    "def imageMatch (X, X_n, X_c):\n",
    "    total = np.mean(X == X_c)\n",
    "    noisy = (X == X_n)\n",
    "    clean = (X == X_c)\n",
    "    unperturbed = np.sum(np.logical_and(clean, noisy)) / np.sum(noisy)\n",
    "    perturbed = np.sum(np.logical_and(clean, 1 - noisy)) / (X.shape[0] - np.sum(noisy))\n",
    "    return total, unperturbed, perturbed"
   ]
  },
  {
   "cell_type": "code",
   "execution_count": null,
   "metadata": {
    "collapsed": true
   },
   "outputs": [],
   "source": [
    "plotGrayScale(feature[5,:])\n",
    "plotGrayScale(feature_noise [5,:])\n",
    "plotGrayScale(feature_clean [5,:])"
   ]
  },
  {
   "cell_type": "code",
   "execution_count": null,
   "metadata": {
    "collapsed": true
   },
   "outputs": [],
   "source": [
    "print (accuracy(feature, feature_noise, feature_cleaned))"
   ]
  },
  {
   "cell_type": "markdown",
   "metadata": {},
   "source": [
    "## Mean Field Update"
   ]
  },
  {
   "cell_type": "markdown",
   "metadata": {},
   "source": [
    "### Update Equations"
   ]
  },
  {
   "cell_type": "code",
   "execution_count": null,
   "metadata": {
    "collapsed": true
   },
   "outputs": [],
   "source": [
    "def np_sigmoid(x):\n",
    "    return 1/(1 + np.exp(-x))\n",
    "\n",
    "def updateX(X, W, b):\n",
    "    H = np.array([computeH(X, i, W, b) for i in range(X.shape[0])])\n",
    "    mu = np.tanh(H)\n",
    "    X_new = mu >= 0\n",
    "    return 2 * X_new - 1\n",
    "\n",
    "def computeH(X, i, W, b):\n",
    "    xi = X[i]\n",
    "    return 0.5 * sum([xi * X[j] for j in W[i,:]]) + b * xi"
   ]
  },
  {
   "cell_type": "markdown",
   "metadata": {},
   "source": [
    "### Run Mean Field Update"
   ]
  },
  {
   "cell_type": "code",
   "execution_count": null,
   "metadata": {
    "collapsed": true
   },
   "outputs": [],
   "source": [
    "feature_cleaned = feature_noise.copy()\n",
    "for i in range(feature_cleaned.shape[0]):\n",
    "    for j in range(iterations):\n",
    "        feature_cleaned[i,:] = updateX(feature_cleaned[i,:], W, b)"
   ]
  },
  {
   "cell_type": "markdown",
   "metadata": {},
   "source": [
    "### Analysis"
   ]
  },
  {
   "cell_type": "code",
   "execution_count": null,
   "metadata": {
    "collapsed": true
   },
   "outputs": [],
   "source": [
    "plotGrayScale(feature[5,:])\n",
    "plotGrayScale(feature_noise [5,:])\n",
    "plotGrayScale(feature_clean [5,:])"
   ]
  },
  {
   "cell_type": "code",
   "execution_count": null,
   "metadata": {
    "collapsed": true
   },
   "outputs": [],
   "source": [
    "print (accuracy(feature, feature_noise, feature_cleaned))"
   ]
  },
  {
   "cell_type": "markdown",
   "metadata": {},
   "source": [
    "# Resources"
   ]
  },
  {
   "cell_type": "code",
   "execution_count": null,
   "metadata": {
    "collapsed": true
   },
   "outputs": [],
   "source": [
    "# Assignment: \n",
    "#   \n",
    "\n",
    "# Data Located at:\n",
    "#   http://yann.lecun.com/exdb/mnist/\n",
    "#   http://cis.jhu.edu/~sachin/digit/digit.html\n",
    "\n",
    "\n",
    "# Bugs:\n",
    "# Descrition: \n",
    "#   solution:"
   ]
  }
 ],
 "metadata": {
  "anaconda-cloud": {},
  "kernelspec": {
   "display_name": "Python [default]",
   "language": "python",
   "name": "python3"
  },
  "language_info": {
   "codemirror_mode": {
    "name": "ipython",
    "version": 3
   },
   "file_extension": ".py",
   "mimetype": "text/x-python",
   "name": "python",
   "nbconvert_exporter": "python",
   "pygments_lexer": "ipython3",
   "version": "3.5.2"
  }
 },
 "nbformat": 4,
 "nbformat_minor": 1
}
