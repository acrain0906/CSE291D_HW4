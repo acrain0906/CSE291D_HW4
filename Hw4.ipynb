{
 "cells": [
  {
   "cell_type": "markdown",
   "metadata": {},
   "source": [
    "## Imports"
   ]
  },
  {
   "cell_type": "code",
   "execution_count": 1,
   "metadata": {
    "collapsed": false
   },
   "outputs": [],
   "source": [
    "import matplotlib.pyplot as plt\n",
    "import numpy as np\n",
    "import pandas as pd\n",
    "from scipy import stats\n",
    "import random\n",
    "\n",
    "from sklearn.neighbors import KNeighborsClassifier, DistanceMetric\n",
    "from sklearn.metrics import confusion_matrix, accuracy_score\n",
    "from sklearn.preprocessing import normalize\n",
    "from sklearn.decomposition import PCA\n",
    "\n",
    "import sys\n",
    "import time\n",
    "import math\n",
    "\n",
    "%config InlineBackend.figure_format='svg'\n",
    "%matplotlib inline"
   ]
  },
  {
   "cell_type": "markdown",
   "metadata": {},
   "source": [
    "## Import Data"
   ]
  },
  {
   "cell_type": "code",
   "execution_count": 2,
   "metadata": {
    "collapsed": true
   },
   "outputs": [],
   "source": [
    "def readCoverType (filename):\n",
    "    data = np.genfromtxt(filename, delimiter=',')\n",
    "    label = np.array(data[:, -1])\n",
    "    feature = np.array(data[:,:-1])\n",
    "    \n",
    "    return feature, label\n",
    "\n",
    "def readMNIST (filename):\n",
    "    data = np.genfromtxt(filename, delimiter = \",\")\n",
    "    data = data.transpose()\n",
    "    \n",
    "    label = np.array(data[:, -1])\n",
    "    feature = np.array(data[:,:-1])\n",
    "    \n",
    "    return feature, label"
   ]
  },
  {
   "cell_type": "code",
   "execution_count": 3,
   "metadata": {
    "collapsed": false
   },
   "outputs": [
    {
     "name": "stdout",
     "output_type": "stream",
     "text": [
      "Loading MNIST data... done.\n"
     ]
    }
   ],
   "source": [
    "sys.stdout.write('Loading MNIST data... ')\n",
    "MNIST_train_feature, MNIST_train_label = readMNIST('./MNIST/train.csv')\n",
    "MNIST_test_feature, MNIST_test_label = readMNIST('./MNIST/test.csv')\n",
    "print ('done.')"
   ]
  },
  {
   "cell_type": "code",
   "execution_count": 4,
   "metadata": {
    "collapsed": false
   },
   "outputs": [
    {
     "name": "stdout",
     "output_type": "stream",
     "text": [
      "Split MNIST into specific outputs... done.\n"
     ]
    }
   ],
   "source": [
    "sys.stdout.write('Split MNIST into specific outputs... ')\n",
    "# split into 0, 1, 3, 5\n",
    "#   1) zip labels and features together\n",
    "MNIST_train_list = list(zip(MNIST_train_feature, MNIST_train_label))\n",
    "MNIST_test_list = list(zip(MNIST_test_feature, MNIST_test_label))\n",
    "print ('done.')"
   ]
  },
  {
   "cell_type": "code",
   "execution_count": 5,
   "metadata": {
    "collapsed": false
   },
   "outputs": [
    {
     "name": "stdout",
     "output_type": "stream",
     "text": [
      "Loading Cover Type data... done.\n"
     ]
    }
   ],
   "source": [
    "sys.stdout.write('Loading Cover Type data... ')\n",
    "CovType_total_feature, CovType_total_label = readCoverType('./covtype.data/covtype.data')\n",
    "split = int(CovType_total_feature.shape[0] * 0.75)\n",
    "\n",
    "CovType_train_feature = CovType_total_feature[:split]\n",
    "CovType_test_feature = CovType_total_feature[split:]\n",
    "\n",
    "CovType_train_label = CovType_total_label[:split]\n",
    "CovType_test_label = CovType_total_label[split:]\n",
    "print ('done.')"
   ]
  },
  {
   "cell_type": "code",
   "execution_count": 6,
   "metadata": {
    "collapsed": false
   },
   "outputs": [
    {
     "name": "stdout",
     "output_type": "stream",
     "text": [
      "Split MNIST into specific outputs... done.\n"
     ]
    }
   ],
   "source": [
    "sys.stdout.write('Split MNIST into specific outputs... ')\n",
    "# split into 0, 1, 3, 5\n",
    "#   1) zip labels and features together\n",
    "CovType_train_list = list(zip(CovType_train_feature, CovType_train_label))\n",
    "CovType_test_list = list(zip(CovType_test_feature, CovType_test_label))\n",
    "print ('done.')"
   ]
  },
  {
   "cell_type": "code",
   "execution_count": 5,
   "metadata": {
    "collapsed": true
   },
   "outputs": [],
   "source": [
    "def shuffle (featurelist, labellist):\n",
    "    merged = list(zip(featurelist, labellist))\n",
    "    random.shuffle(merged)\n",
    "    featurelist, labellist = zip(*merged)\n",
    "    return np.array(featurelist), np.array(labellist)\n",
    "\n",
    "def mergeAndShuffle(list1, list2):\n",
    "    featurelist = []\n",
    "    labellist = []\n",
    "    for (feature, label) in list1:\n",
    "        featurelist.append(feature)\n",
    "        labellist.append(label)\n",
    "    for (feature, label) in list2:\n",
    "        featurelist.append(feature)\n",
    "        labellist.append(label)\n",
    "    return shuffle (featurelist, labellist)"
   ]
  },
  {
   "cell_type": "markdown",
   "metadata": {
    "collapsed": true
   },
   "source": [
    "# K-NN"
   ]
  },
  {
   "cell_type": "markdown",
   "metadata": {},
   "source": [
    "## Choose Dataset"
   ]
  },
  {
   "cell_type": "code",
   "execution_count": 6,
   "metadata": {
    "collapsed": false
   },
   "outputs": [],
   "source": [
    "feature, label = mergeAndShuffle(MNIST_test_list, MNIST_train_list)"
   ]
  },
  {
   "cell_type": "markdown",
   "metadata": {},
   "source": [
    "### Select Test Set"
   ]
  },
  {
   "cell_type": "code",
   "execution_count": 7,
   "metadata": {
    "collapsed": false
   },
   "outputs": [
    {
     "name": "stdout",
     "output_type": "stream",
     "text": [
      "7058\n"
     ]
    }
   ],
   "source": [
    "quarter = int (label.shape[0] / 4)\n",
    "test_feature = feature[:quarter]\n",
    "train_feature = feature[quarter:]\n",
    "\n",
    "test_label = label[:quarter]\n",
    "train_label = label[quarter:]"
   ]
  },
  {
   "cell_type": "markdown",
   "metadata": {},
   "source": [
    "### Select Training Set"
   ]
  },
  {
   "cell_type": "code",
   "execution_count": 10,
   "metadata": {
    "collapsed": false
   },
   "outputs": [
    {
     "name": "stdout",
     "output_type": "stream",
     "text": [
      "5294\n"
     ]
    }
   ],
   "source": [
    "# Randomly select a subset of d% from the training data where d={50,75,100}.\n",
    "# Generate five training sets for each of the d% data, the 100% case however will just have one set.\n",
    "quarter = int (train_label.shape[0] / 4)\n",
    "\n",
    "train_data = [random.sample (list(zip(train_feature, train_label)), i * quarter) for i in [2, 3, 4]]"
   ]
  },
  {
   "cell_type": "markdown",
   "metadata": {},
   "source": [
    "## Parameter Estimation"
   ]
  },
  {
   "cell_type": "markdown",
   "metadata": {},
   "source": [
    "### Determine Best K"
   ]
  },
  {
   "cell_type": "code",
   "execution_count": 15,
   "metadata": {
    "collapsed": false
   },
   "outputs": [],
   "source": [
    "clf = KNeighborsClassifier(n_neighbors=3) \n",
    "train_feat, train_label = zip(*(train_data[0]))\n",
    "val_feat = test_feature\n",
    "y_true = test_label"
   ]
  },
  {
   "cell_type": "code",
   "execution_count": 17,
   "metadata": {
    "collapsed": false
   },
   "outputs": [
    {
     "data": {
      "text/plain": [
       "KNeighborsClassifier(algorithm='auto', leaf_size=30, metric='minkowski',\n",
       "           metric_params=None, n_jobs=1, n_neighbors=3, p=2,\n",
       "           weights='uniform')"
      ]
     },
     "execution_count": 17,
     "metadata": {},
     "output_type": "execute_result"
    }
   ],
   "source": [
    "clf.fit (train_feat, train_label) # train"
   ]
  },
  {
   "cell_type": "code",
   "execution_count": 18,
   "metadata": {
    "collapsed": false
   },
   "outputs": [
    {
     "name": "stdout",
     "output_type": "stream",
     "text": [
      "0.986681779541\n"
     ]
    }
   ],
   "source": [
    "\n",
    "y_pred = clf.predict(val_feat) # predict\n",
    "print(accuracy_score(y_true, y_pred))"
   ]
  },
  {
   "cell_type": "code",
   "execution_count": null,
   "metadata": {
    "collapsed": true
   },
   "outputs": [],
   "source": []
  },
  {
   "cell_type": "code",
   "execution_count": 39,
   "metadata": {
    "collapsed": false
   },
   "outputs": [],
   "source": [
    "def nFold (train_data, K, n = 2, dist = DistanceMetric.get_metric('euclidean')):\n",
    "    sample_size = int(len(train_data) / float(n))\n",
    "    train_chunks = [train_data[x:x+sample_size] for x in range(0, len(train_data), sample_size)]\n",
    "    for i in range(n):\n",
    "        val_data = train_chunks[i]\n",
    "        for j in range (n):\n",
    "            if j != i:\n",
    "                train_data.extend(train_chunks[j])\n",
    "        clf = KNeighborsClassifier(n_neighbors=3) \n",
    "        train_feat, train_label = zip(*train_data)\n",
    "        clf.fit (train_feat, train_label) # train\n",
    "        val_feat, y_true = zip(*val_data)\n",
    "        y_pred = clf.predict(val_feat) # predict\n",
    "    return accuracy_score(y_true, y_pred)\n",
    "\n",
    "def leaveOneOut (train_data, K):\n",
    "    return 0.0"
   ]
  },
  {
   "cell_type": "code",
   "execution_count": null,
   "metadata": {
    "collapsed": false
   },
   "outputs": [],
   "source": [
    "\n",
    "# determine the best K\n",
    "min_error = 1.0\n",
    "best_k = 1\n",
    "for d in [50, 75, 100]:\n",
    "    d = int(d / 25 - 2)\n",
    "    for K in range (10, 30, 10):\n",
    "        error = (nFold (train_data[d], K, n = 2) + nFold (train_data[d], K, n = 5) + nFold (train_data[d], K, n = 4)) / 3.0\n",
    "        if error < min_error: # remember k for the lowest average\n",
    "            best_k = K\n",
    "            min_error = error"
   ]
  },
  {
   "cell_type": "code",
   "execution_count": null,
   "metadata": {
    "collapsed": true
   },
   "outputs": [],
   "source": [
    "print ('The 2-fold error is: ', nFold (train_data[d], best_k, n = 2))\n",
    "print ('The 5-fold error is: ', nFold (train_data[d], best_k, n = 5))\n",
    "print ('The leave-one-out error is: ', leaveOneOut (train_data[d], best_k))"
   ]
  },
  {
   "cell_type": "markdown",
   "metadata": {},
   "source": [
    "### Determine Best Distance Metric"
   ]
  },
  {
   "cell_type": "code",
   "execution_count": null,
   "metadata": {
    "collapsed": true
   },
   "outputs": [],
   "source": []
  },
  {
   "cell_type": "markdown",
   "metadata": {},
   "source": [
    "## Test K-NN"
   ]
  },
  {
   "cell_type": "code",
   "execution_count": null,
   "metadata": {
    "collapsed": true
   },
   "outputs": [],
   "source": [
    "# Now, test the test data with the best K and its associated training data and compare the error rate to cross validation error.\n",
    "#   Report which F estimated the test error the best."
   ]
  },
  {
   "cell_type": "markdown",
   "metadata": {},
   "source": [
    "# Resources"
   ]
  },
  {
   "cell_type": "code",
   "execution_count": null,
   "metadata": {
    "collapsed": true
   },
   "outputs": [],
   "source": [
    "# Assignment: \n",
    "#   https://nbviewer.jupyter.org/github/CSE291/CSE291/blob/master/hw/hw3/hw3.ipynb\n",
    "\n",
    "# Library K-NN:\n",
    "#   http://scikit-learn.org/stable/modules/neighbors.html\n",
    "#   http://scikit-learn.org/stable/modules/generated/sklearn.neighbors.KNeighborsClassifier.html#sklearn.neighbors.KNeighborsClassifier\n",
    "\n",
    "# Custom K-NN:\n",
    "#   http://www.kdnuggets.com/2016/01/implementing-your-own-knn-using-python.html\n",
    "#   http://machinelearningmastery.com/tutorial-to-implement-k-nearest-neighbors-in-python-from-scratch/\n",
    "\n",
    "# Cross-Validation Techniques\n",
    "#   https://www.cs.cmu.edu/~schneide/tut5/node42.html\n",
    "\n",
    "# Bugs:\n",
    "# Descrition: \n",
    "#   solution:"
   ]
  }
 ],
 "metadata": {
  "anaconda-cloud": {},
  "kernelspec": {
   "display_name": "Python [default]",
   "language": "python",
   "name": "python3"
  },
  "language_info": {
   "codemirror_mode": {
    "name": "ipython",
    "version": 3
   },
   "file_extension": ".py",
   "mimetype": "text/x-python",
   "name": "python",
   "nbconvert_exporter": "python",
   "pygments_lexer": "ipython3",
   "version": "3.5.2"
  }
 },
 "nbformat": 4,
 "nbformat_minor": 1
}
